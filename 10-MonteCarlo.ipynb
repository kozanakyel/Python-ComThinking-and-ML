{
 "cells": [
  {
   "cell_type": "code",
   "execution_count": 1,
   "metadata": {},
   "outputs": [],
   "source": [
    "# MONTECARLO, CONFIDENCE INTERVAL, PDF, CLT\n",
    "\n",
    "import random, pylab"
   ]
  },
  {
   "cell_type": "code",
   "execution_count": 2,
   "metadata": {},
   "outputs": [],
   "source": [
    "pylab.rcParams['lines.linewidth'] = 4\n",
    "pylab.rcParams['axes.titlesize'] = 20 \n",
    "pylab.rcParams['axes.labelsize'] = 20\n",
    "pylab.rcParams['xtick.labelsize'] = 16 \n",
    "pylab.rcParams['ytick.labelsize'] = 16\n",
    "pylab.rcParams['ytick.major.size'] = 7\n",
    "pylab.rcParams['xtick.major.size'] = 7 \n",
    "pylab.rcParams['legend.numpoints'] = 1"
   ]
  },
  {
   "cell_type": "code",
   "execution_count": 3,
   "metadata": {},
   "outputs": [
    {
     "name": "stdout",
     "output_type": "stream",
     "text": [
      "15\n",
      "-1\n"
     ]
    }
   ],
   "source": [
    "class FairRoulette():\n",
    "    def __init__(self):\n",
    "        self.pockets = []\n",
    "        for i in range(1,37):\n",
    "            self.pockets.append(i)\n",
    "        self.ball = None\n",
    "        self.pocketOdds = len(self.pockets) - 1\n",
    "    def spin(self):\n",
    "        self.ball = random.choice(self.pockets)\n",
    "    def betPocket(self, pocket, amt):\n",
    "        if str(pocket) == str(self.ball):\n",
    "            return amt*self.pocketOdds\n",
    "        else: return -amt\n",
    "    def __str__(self):\n",
    "        return 'Fair Roulette'\n",
    "    \n",
    "fr = FairRoulette()\n",
    "fr.spin()\n",
    "print(fr.ball)\n",
    "print(fr.betPocket(5,1))\n",
    "        "
   ]
  },
  {
   "cell_type": "code",
   "execution_count": 4,
   "metadata": {},
   "outputs": [],
   "source": [
    "def playRoulette(game, numSpins, pocket, bet, toPrint):\n",
    "    totPocket = 0\n",
    "    for i in range(numSpins):\n",
    "        game.spin()\n",
    "        totPocket += game.betPocket(pocket, bet)\n",
    "    if toPrint:\n",
    "        print(numSpins, 'spins of', game)\n",
    "        print('Expected return betting', pocket, '=',\\\n",
    "              str(100*totPocket/numSpins) + '%\\n')\n",
    "    return (totPocket/numSpins)"
   ]
  },
  {
   "cell_type": "code",
   "execution_count": 5,
   "metadata": {},
   "outputs": [
    {
     "name": "stdout",
     "output_type": "stream",
     "text": [
      "100 spins of Fair Roulette\n",
      "Expected return betting 2 = -100.0%\n",
      "\n",
      "100 spins of Fair Roulette\n",
      "Expected return betting 2 = 44.0%\n",
      "\n",
      "100 spins of Fair Roulette\n",
      "Expected return betting 2 = -28.0%\n",
      "\n",
      "101 spins of Fair Roulette\n",
      "Expected return betting 2 = -64.35643564356435%\n",
      "\n",
      "101 spins of Fair Roulette\n",
      "Expected return betting 2 = -28.712871287128714%\n",
      "\n",
      "101 spins of Fair Roulette\n",
      "Expected return betting 2 = 149.5049504950495%\n",
      "\n",
      "1000000 spins of Fair Roulette\n",
      "Expected return betting 2 = -0.046%\n",
      "\n",
      "1000000 spins of Fair Roulette\n",
      "Expected return betting 2 = 0.5984%\n",
      "\n",
      "1000000 spins of Fair Roulette\n",
      "Expected return betting 2 = 0.7856%\n",
      "\n",
      "1000001 spins of Fair Roulette\n",
      "Expected return betting 2 = -0.4312995687004313%\n",
      "\n",
      "1000001 spins of Fair Roulette\n",
      "Expected return betting 2 = 0.4002995997004003%\n",
      "\n",
      "1000001 spins of Fair Roulette\n",
      "Expected return betting 2 = 0.6270993729006271%\n",
      "\n"
     ]
    }
   ],
   "source": [
    "random.seed(0)\n",
    "game = FairRoulette()\n",
    "for numSpins in range(100, 102):\n",
    "    for i in range(3):\n",
    "        playRoulette(game, numSpins,2,1,True)\n",
    "        \n",
    "for numSpins in range(1000000, 1000002):\n",
    "    for i in range(3):\n",
    "        playRoulette(game, numSpins,2,1,True)"
   ]
  },
  {
   "cell_type": "code",
   "execution_count": 6,
   "metadata": {},
   "outputs": [],
   "source": [
    "class EuRoulette(FairRoulette):\n",
    "    def __init__(self):\n",
    "        FairRoulette.__init__(self)\n",
    "        self.pockets.append('0')\n",
    "    def __str__(self):\n",
    "        return 'European Roulette'\n",
    "    \n",
    "class AmRoulette(FairRoulette):\n",
    "    def __init__(self):\n",
    "        FairRoulette.__init__(self)\n",
    "        self.pockets.append('00')\n",
    "    def __str__(self):\n",
    "        return 'American Roulette'\n",
    "            "
   ]
  },
  {
   "cell_type": "code",
   "execution_count": 7,
   "metadata": {},
   "outputs": [],
   "source": [
    "def findPocketReturn(game, numTrials, trialSize, toPrint):\n",
    "    pocketReturns = []\n",
    "    for t in range(numTrials):\n",
    "        trialVals = playRoulette(game, trialSize, 2, 1, toPrint)\n",
    "        pocketReturns.append(trialVals)\n",
    "    return pocketReturns"
   ]
  },
  {
   "cell_type": "code",
   "execution_count": 8,
   "metadata": {},
   "outputs": [],
   "source": [
    "def getMeanAndStd(X):\n",
    "    mean = sum(X)/float(len(X))\n",
    "    tot = 0.0\n",
    "    for x in X:\n",
    "        tot += (x - mean)**2\n",
    "    std = (tot/len(X))**0.5\n",
    "    return mean, std"
   ]
  },
  {
   "cell_type": "code",
   "execution_count": 9,
   "metadata": {},
   "outputs": [
    {
     "name": "stdout",
     "output_type": "stream",
     "text": [
      "\n",
      "Simulate betting a pocket for 20 trials of 10 spin each\n",
      "Exp. return for Fair Roulette = -28.0%\n",
      "Exp. return for European Roulette = -46.0%\n",
      "Exp. return for American Roulette = 44.0%\n",
      "\n",
      "Simulate betting a pocket for 20 trials of 100 spin each\n",
      "Exp. return for Fair Roulette = 9.8%\n",
      "Exp. return for European Roulette = 0.8%\n",
      "Exp. return for American Roulette = -4.6%\n",
      "\n",
      "Simulate betting a pocket for 20 trials of 1000 spin each\n",
      "Exp. return for Fair Roulette = 4.58%\n",
      "Exp. return for European Roulette = -1.9%\n",
      "Exp. return for American Roulette = -6.94%\n"
     ]
    }
   ],
   "source": [
    "random.seed(0)\n",
    "numTrials = 20\n",
    "resultDict = {}\n",
    "games = (FairRoulette, EuRoulette, AmRoulette)\n",
    "for G in games:\n",
    "    resultDict[G().__str__()] = []\n",
    "for numSpins in (10, 100, 1000):\n",
    "    print('\\nSimulate betting a pocket for', numTrials, 'trials of', numSpins, 'spin each')\n",
    "    for G in games:\n",
    "        pocketReturns = findPocketReturn(G(), 20, numSpins, False)\n",
    "        expReturn = 100*sum(pocketReturns)/len(pocketReturns)\n",
    "        print('Exp. return for', G(), '=',str(round(expReturn, 4)) + '%')"
   ]
  },
  {
   "cell_type": "code",
   "execution_count": 10,
   "metadata": {},
   "outputs": [
    {
     "name": "stdout",
     "output_type": "stream",
     "text": [
      "\n",
      "Simulate betting a pocket for 20 trials of 100 spins each\n",
      "Exp. return for Fair Roulette = 6.2%, +/-  152.114% with 95% confidence\n",
      "Exp. return for European Roulette = -8.2%, +/-  90.567% with 95% confidence\n",
      "Exp. return for American Roulette = 4.4%, +/-  99.537% with 95% confidence\n",
      "\n",
      "Simulate betting a pocket for 20 trials of 1000 spins each\n",
      "Exp. return for Fair Roulette = 4.76%, +/-  36.995% with 95% confidence\n",
      "Exp. return for European Roulette = -2.44%, +/-  34.125% with 95% confidence\n",
      "Exp. return for American Roulette = -6.76%, +/-  41.378% with 95% confidence\n",
      "\n",
      "Simulate betting a pocket for 20 trials of 10000 spins each\n",
      "Exp. return for Fair Roulette = -1.45%, +/-  10.041% with 95% confidence\n",
      "Exp. return for European Roulette = -3.952%, +/-  10.538% with 95% confidence\n",
      "Exp. return for American Roulette = -3.34%, +/-  9.383% with 95% confidence\n"
     ]
    }
   ],
   "source": [
    "# Applying empirical rule\n",
    "random.seed(0)\n",
    "numTrials = 20\n",
    "resultDict = {}\n",
    "games = (FairRoulette, EuRoulette, AmRoulette)\n",
    "for G in games:\n",
    "    resultDict[G().__str__()] = []\n",
    "for numSpins in (100, 1000, 10000):\n",
    "    print('\\nSimulate betting a pocket for', numTrials,\n",
    "        'trials of', numSpins, 'spins each')\n",
    "    for G in games:\n",
    "        pocketReturns = findPocketReturn(G(), 20,\n",
    "                                        numSpins, False)\n",
    "        mean, std = getMeanAndStd(pocketReturns)\n",
    "        resultDict[G().__str__()].append((numSpins,\n",
    "                                        100*mean,\n",
    "                                        100*std))\n",
    "        print('Exp. return for', G(), '=',\n",
    "             str(round(100*mean, 3))\n",
    "             + '%,', '+/- ', str(round(100*1.96*std, 3))\n",
    "             + '% with 95% confidence')"
   ]
  },
  {
   "cell_type": "code",
   "execution_count": 12,
   "metadata": {},
   "outputs": [
    {
     "name": "stdout",
     "output_type": "stream",
     "text": [
      "Fraction within -200 of mean = 0.9571469999999963\n",
      "1000000\n",
      "1000000\n"
     ]
    },
    {
     "data": {
      "image/png": "[encoded data removed]",
      "text/plain": [
       "<Figure size 432x288 with 1 Axes>"
      ]
     },
     "metadata": {
      "needs_background": "light"
     },
     "output_type": "display_data"
    }
   ],
   "source": [
    "# Confidence Interval Part\n",
    "# Probability Density Function (PDF)\n",
    "random.seed(1)\n",
    "dist, numSamples = [], 1000000\n",
    "\n",
    "for i in range(numSamples):\n",
    "    dist.append(random.gauss(0, 100))  #gauss Normal dist.\n",
    "    \n",
    "weights = [1/numSamples]*len(dist)\n",
    "v = pylab.hist(dist, bins = 100,\n",
    "              weights = [1/numSamples]*len(dist))\n",
    "pylab.xlabel('x')\n",
    "pylab.ylabel('Relative Frequency')\n",
    "\n",
    "print('Fraction within -200 of mean =',\n",
    "     sum(v[0][30:70]))       # probability %30 to %70\n"
   ]
  },
  {
   "cell_type": "code",
   "execution_count": 14,
   "metadata": {},
   "outputs": [
    {
     "data": {
      "text/plain": [
       "Text(0.5, 1.0, 'Normal Distribution, mu =0, sigma = 1')"
      ]
     },
     "execution_count": 14,
     "metadata": {},
     "output_type": "execute_result"
    },
    {
     "data": {
      "image/png": "[encoded data removed]",
      "text/plain": [
       "<Figure size 432x288 with 1 Axes>"
      ]
     },
     "metadata": {
      "needs_background": "light"
     },
     "output_type": "display_data"
    }
   ],
   "source": [
    "def gaussian(x, mu, sigma):\n",
    "    factor1 = (1.0/(sigma*((2*pylab.pi)**0.5)))\n",
    "    factor2 = pylab.e**-(((x-mu)**2)/(2*sigma**2))\n",
    "    return factor1*factor2\n",
    "xVals, yVals = [], []\n",
    "mu, sigma = 0, 1\n",
    "x = -4\n",
    "while x <= 4:\n",
    "    xVals.append(x)\n",
    "    yVals.append(gaussian(x, mu, sigma))\n",
    "    x += 0.05\n",
    "pylab.plot(xVals, yVals)\n",
    "pylab.title('Normal Distribution, mu =' + str(mu)\\\n",
    "           + ', sigma = ' + str(sigma))"
   ]
  },
  {
   "cell_type": "code",
   "execution_count": 15,
   "metadata": {},
   "outputs": [],
   "source": [
    "import scipy.integrate"
   ]
  },
  {
   "cell_type": "code",
   "execution_count": 16,
   "metadata": {},
   "outputs": [],
   "source": [
    "def checkEmpirical(numTrials):\n",
    "    for t in range(numTrials):\n",
    "        mu = random.randint(-10, 10)\n",
    "        sigma = random.randint(1, 10)\n",
    "        print('For mu =', mu, 'and sigma =', sigma)\n",
    "        for numStd in (1, 1.96, 3):\n",
    "            # integrate.quad(function, lowerLim, UpperLim, \n",
    "            #     tuple for interval)\n",
    "            area = scipy.integrate.quad(gaussian,\n",
    "                                       mu-numStd*sigma,\n",
    "                                       mu+numStd*sigma,\n",
    "                                       (mu,sigma))[0]\n",
    "            print(' Fraction within', numStd,\n",
    "                 'std =', round(area, 4))"
   ]
  },
  {
   "cell_type": "code",
   "execution_count": 18,
   "metadata": {},
   "outputs": [
    {
     "name": "stdout",
     "output_type": "stream",
     "text": [
      "For mu = -10 and sigma = 5\n",
      " Fraction within 1 std = 0.6827\n",
      " Fraction within 1.96 std = 0.95\n",
      " Fraction within 3 std = 0.9973\n",
      "For mu = -2 and sigma = 4\n",
      " Fraction within 1 std = 0.6827\n",
      " Fraction within 1.96 std = 0.95\n",
      " Fraction within 3 std = 0.9973\n",
      "For mu = 1 and sigma = 3\n",
      " Fraction within 1 std = 0.6827\n",
      " Fraction within 1.96 std = 0.95\n",
      " Fraction within 3 std = 0.9973\n"
     ]
    }
   ],
   "source": [
    "checkEmpirical(3)"
   ]
  },
  {
   "cell_type": "code",
   "execution_count": 22,
   "metadata": {},
   "outputs": [
    {
     "name": "stdout",
     "output_type": "stream",
     "text": [
      "Mean of rolling 1 dice = 2.497597436306403, Std = 1.4441377562719484\n",
      "Mean of rolling 50 dice = 2.499565484967283, Std = 0.20365218691582812\n"
     ]
    },
    {
     "data": {
      "text/plain": [
       "<matplotlib.legend.Legend at 0x7f25d6c05b20>"
      ]
     },
     "execution_count": 22,
     "metadata": {},
     "output_type": "execute_result"
    },
    {
     "data": {
      "image/png": "[encoded data removed]",
      "text/plain": [
       "<Figure size 432x288 with 1 Axes>"
      ]
     },
     "metadata": {
      "needs_background": "light"
     },
     "output_type": "display_data"
    }
   ],
   "source": [
    "# Central Limit Theorem\n",
    "# means very close to population mean\n",
    "# variance very close to population variance\n",
    "def plotMeans(numDice, numRolls, numBins, legend, color, style):\n",
    "    means = []\n",
    "    for i in range(numRolls//numDice):\n",
    "        vals = 0\n",
    "        for j in range(numDice):\n",
    "            vals += 5*random.random() \n",
    "        means.append(vals/float(numDice))\n",
    "    pylab.hist(means, numBins, color = color, label = legend,\n",
    "               weights = [1/len(means)]*len(means),\n",
    "               hatch = style)\n",
    "    return getMeanAndStd(means)\n",
    "\n",
    "mean, std = plotMeans(1, 1000000, 19, '1 die', 'b', '*')\n",
    "print('Mean of rolling 1 dice =', str(mean) + ',', 'Std =', std)\n",
    "mean, std = plotMeans(50, 1000000, 19, 'Mean of 50 dice', 'r', '//')\n",
    "print('Mean of rolling 50 dice =', str(mean) + ',', 'Std =', std)\n",
    "pylab.title('Rolling Continuous Dice')\n",
    "pylab.xlabel('Value')\n",
    "pylab.ylabel('Probability')\n",
    "pylab.legend()"
   ]
  },
  {
   "cell_type": "code",
   "execution_count": 33,
   "metadata": {},
   "outputs": [],
   "source": [
    "# Buffon-Laplace method\n",
    "\n",
    "def throwNeedles(numNeedles):\n",
    "    inCircle = 0\n",
    "    for Needles in range(1, numNeedles + 1, 1):\n",
    "        x = random.random()\n",
    "        y = random.random()\n",
    "        if (x*x + y*y)**0.5 <= 1.0:\n",
    "            inCircle += 1\n",
    "    return 2*(inCircle/float(numNeedles))"
   ]
  },
  {
   "cell_type": "code",
   "execution_count": 34,
   "metadata": {},
   "outputs": [],
   "source": [
    "import numpy"
   ]
  },
  {
   "cell_type": "code",
   "execution_count": 47,
   "metadata": {},
   "outputs": [],
   "source": [
    "def getEst(numNeedles, numTrials):\n",
    "    estimates = []\n",
    "    for t in range(numTrials):\n",
    "        piGuess = throwNeedles(numNeedles)\n",
    "        estimates.append(piGuess)\n",
    "    sDev = numpy.std(estimates)\n",
    "    curEst = sum(estimates)/len(estimates)\n",
    "    print('Est. = ' + str(curEst) +\\\n",
    "          ', Std. dev. = ' + str(round(sDev, 6))\\\n",
    "          + ', Needles = ' + str(numNeedles))\n",
    "    return (curEst, sDev)"
   ]
  },
  {
   "cell_type": "code",
   "execution_count": 48,
   "metadata": {},
   "outputs": [],
   "source": [
    "def estPi(precision, numTrials):\n",
    "    numNeedles = 1000\n",
    "    sDev = precision\n",
    "    while sDev >= precision/2:\n",
    "        curEst, sDev = getEst(numNeedles,\n",
    "                              numTrials)\n",
    "        numNeedles *= 2\n",
    "    return 2*curEst"
   ]
  },
  {
   "cell_type": "code",
   "execution_count": 49,
   "metadata": {},
   "outputs": [
    {
     "name": "stdout",
     "output_type": "stream",
     "text": [
      "Est. = 1.5742200000000006, Std. dev. = 0.023943, Needles = 1000\n",
      "Est. = 1.5695899999999994, Std. dev. = 0.017748, Needles = 2000\n",
      "Est. = 1.5705399999999998, Std. dev. = 0.013565, Needles = 4000\n",
      "Est. = 1.5707175, Std. dev. = 0.008402, Needles = 8000\n",
      "Est. = 1.5706775, Std. dev. = 0.00685, Needles = 16000\n",
      "Est. = 1.5706568750000003, Std. dev. = 0.004238, Needles = 32000\n",
      "Est. = 1.5705859374999995, Std. dev. = 0.003514, Needles = 64000\n",
      "Est. = 1.5707948437499997, Std. dev. = 0.002017, Needles = 128000\n"
     ]
    },
    {
     "data": {
      "text/plain": [
       "3.1415896874999993"
      ]
     },
     "execution_count": 49,
     "metadata": {},
     "output_type": "execute_result"
    }
   ],
   "source": [
    "random.seed(0)\n",
    "estPi(0.005, 100)"
   ]
  },
  {
   "cell_type": "code",
   "execution_count": null,
   "metadata": {},
   "outputs": [],
   "source": []
  }
 ],
 "metadata": {
  "kernelspec": {
   "display_name": "Python 3",
   "language": "python",
   "name": "python3"
  },
  "language_info": {
   "codemirror_mode": {
    "name": "ipython",
    "version": 3
   },
   "file_extension": ".py",
   "mimetype": "text/x-python",
   "name": "python",
   "nbconvert_exporter": "python",
   "pygments_lexer": "ipython3",
   "version": "3.8.3"
  }
 },
 "nbformat": 4,
 "nbformat_minor": 4
}
