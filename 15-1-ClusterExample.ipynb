{
 "cells": [
  {
   "cell_type": "code",
   "execution_count": 1,
   "metadata": {},
   "outputs": [],
   "source": [
    "import pylab\n",
    "\n",
    "#set line width\n",
    "pylab.rcParams['lines.linewidth'] = 6\n",
    "#set general font size \n",
    "pylab.rcParams['font.size'] = 12\n",
    "#set font size for labels on axes\n",
    "pylab.rcParams['axes.labelsize'] = 18\n",
    "#set size of numbers on x-axis\n",
    "pylab.rcParams['xtick.major.size'] = 5\n",
    "#set size of numbers on y-axis\n",
    "pylab.rcParams['ytick.major.size'] = 5\n",
    "#set size of markers\n",
    "pylab.rcParams['lines.markersize'] = 10"
   ]
  },
  {
   "cell_type": "code",
   "execution_count": 2,
   "metadata": {},
   "outputs": [],
   "source": [
    "def minkowskiDist(v1, v2, p):\n",
    "    #Assumes v1 and v2 are equal length arrays of numbers\n",
    "    dist = 0\n",
    "    for i in range(len(v1)):\n",
    "        dist += abs(v1[i] - v2[i])**p\n",
    "    return dist**(1/p)"
   ]
  },
  {
   "cell_type": "code",
   "execution_count": 3,
   "metadata": {},
   "outputs": [],
   "source": [
    "class Example(object):\n",
    "    \n",
    "    def __init__(self, name, features, label = None):\n",
    "        #Assumes features is an array of floats\n",
    "        self.name = name\n",
    "        self.features = features\n",
    "        self.label = label\n",
    "        \n",
    "    def dimensionality(self):\n",
    "        return len(self.features)\n",
    "    \n",
    "    def getFeatures(self):\n",
    "        return self.features[:]\n",
    "    \n",
    "    def getLabel(self):\n",
    "        return self.label\n",
    "    \n",
    "    def getName(self):\n",
    "        return self.name\n",
    "    \n",
    "    def distance(self, other):\n",
    "        return minkowskiDist(self.features, other.getFeatures(), 2)\n",
    "    \n",
    "    def __str__(self):\n",
    "        return self.name +':'+ str(self.features) + ':'\\\n",
    "               + str(self.label)"
   ]
  },
  {
   "cell_type": "code",
   "execution_count": 4,
   "metadata": {},
   "outputs": [],
   "source": [
    "class Cluster(object):\n",
    "    \n",
    "    def __init__(self, examples):\n",
    "        \"\"\"Assumes examples a non-empty list of Examples\"\"\"\n",
    "        self.examples = examples\n",
    "        self.centroid = self.computeCentroid()\n",
    "        \n",
    "    def update(self, examples):\n",
    "        \"\"\"Assume examples is a non-empty list of Examples\n",
    "           Replace examples; return amount centroid has changed\"\"\"\n",
    "        oldCentroid = self.centroid\n",
    "        self.examples = examples\n",
    "        self.centroid = self.computeCentroid()\n",
    "        return oldCentroid.distance(self.centroid)\n",
    "    \n",
    "    def computeCentroid(self):\n",
    "        vals = pylab.array([0.0]*self.examples[0].dimensionality())\n",
    "        for e in self.examples: #compute mean\n",
    "            vals += e.getFeatures()\n",
    "        centroid = Example('centroid', vals/len(self.examples))\n",
    "        return centroid\n",
    "\n",
    "    def getCentroid(self):\n",
    "        return self.centroid\n",
    "\n",
    "    def variability(self):\n",
    "        totDist = 0\n",
    "        for e in self.examples:\n",
    "            totDist += (e.distance(self.centroid))**2\n",
    "        return totDist\n",
    "        \n",
    "    def members(self):\n",
    "        for e in self.examples:\n",
    "            yield e\n",
    "\n",
    "    def __str__(self):\n",
    "        names = []\n",
    "        for e in self.examples:\n",
    "            names.append(e.getName())\n",
    "        names.sort()\n",
    "        result = 'Cluster with centroid '\\\n",
    "               + str(self.centroid.getFeatures()) + ' contains:\\n  '\n",
    "        for e in names:\n",
    "            result = result + e + ', '\n",
    "        return result[:-2] #remove trailing comma and space  "
   ]
  },
  {
   "cell_type": "code",
   "execution_count": 5,
   "metadata": {},
   "outputs": [],
   "source": [
    "def dissimilarity(clusters):\n",
    "    \"\"\"Assumes clusters a list of clusters\n",
    "       Returns a measure of the total dissimilarity of the\n",
    "       clusters in the list\"\"\"\n",
    "    totDist = 0\n",
    "    for c in clusters:\n",
    "        totDist += c.variability()\n",
    "    return totDist"
   ]
  },
  {
   "cell_type": "code",
   "execution_count": 24,
   "metadata": {},
   "outputs": [
    {
     "data": {
      "text/plain": [
       "\"\\na = Example('koz', [1,2,3.4,4.1])\\nprint(a)\\nprint(a.getFeatures())\\nb = Example('kur', [9,2,3,4.2])\\nprint(a.distance(b))\\nd = Example('eks', [2,3,5.3,7.4])\\nclus = Cluster([a,b])\\nprint(clus.update([d]))\\nprint(clus.computeCentroid())\\nprint(clus.getCentroid())\\nprint(clus.variability())\\nprint(clus)\\n\""
      ]
     },
     "execution_count": 24,
     "metadata": {},
     "output_type": "execute_result"
    }
   ],
   "source": [
    "\"\"\"\n",
    "a = Example('koz', [1,2,3.4,4.1])\n",
    "print(a)\n",
    "print(a.getFeatures())\n",
    "b = Example('kur', [9,2,3,4.2])\n",
    "print(a.distance(b))\n",
    "d = Example('eks', [2,3,5.3,7.4])\n",
    "clus = Cluster([a,b])\n",
    "print(clus.update([d]))\n",
    "print(clus.computeCentroid())\n",
    "print(clus.getCentroid())\n",
    "print(clus.variability())\n",
    "print(clus)\n",
    "\"\"\""
   ]
  },
  {
   "cell_type": "code",
   "execution_count": null,
   "metadata": {},
   "outputs": [],
   "source": []
  }
 ],
 "metadata": {
  "kernelspec": {
   "display_name": "Python 3",
   "language": "python",
   "name": "python3"
  },
  "language_info": {
   "codemirror_mode": {
    "name": "ipython",
    "version": 3
   },
   "file_extension": ".py",
   "mimetype": "text/x-python",
   "name": "python",
   "nbconvert_exporter": "python",
   "pygments_lexer": "ipython3",
   "version": "3.8.3"
  }
 },
 "nbformat": 4,
 "nbformat_minor": 4
}
