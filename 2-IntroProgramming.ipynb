{
 "cells": [
  {
   "cell_type": "code",
   "execution_count": 3,
   "metadata": {},
   "outputs": [],
   "source": [
    "def get_data(aTuple):\n",
    "    \"\"\"\n",
    "    aTuple = ((ints,strings),(),()) inner tuple\n",
    "    \"\"\"\n",
    "    nums = ()\n",
    "    words = ()\n",
    "    for t in aTuple:\n",
    "        nums = nums + (t[0],)\n",
    "        if t[1] not in words:\n",
    "            words = words + (t[1],)\n",
    "    min_n = min(nums)\n",
    "    max_n = max(nums)\n",
    "    unique_words = len(words)\n",
    "    return (min_n, max_n, unique_words)"
   ]
  },
  {
   "cell_type": "code",
   "execution_count": 4,
   "metadata": {
    "scrolled": true
   },
   "outputs": [
    {
     "name": "stdout",
     "output_type": "stream",
     "text": [
      "a: 1 b: 7 c: 2\n"
     ]
    }
   ],
   "source": [
    "test = ((1,\"a\"),(2,\"b\"),(1,\"a\"),(7,\"b\"))\n",
    "(a,b,c) = get_data(test)\n",
    "print(\"a:\",a,\"b:\",b,\"c:\",c)"
   ]
  },
  {
   "cell_type": "code",
   "execution_count": 8,
   "metadata": {},
   "outputs": [
    {
     "name": "stdout",
     "output_type": "stream",
     "text": [
      "8786\n"
     ]
    }
   ],
   "source": [
    "L = [1,4,7,8,3,8665,98] \n",
    "total = 0\n",
    "for i in L:\n",
    "    total += i\n",
    "print(total)"
   ]
  },
  {
   "cell_type": "code",
   "execution_count": 10,
   "metadata": {},
   "outputs": [
    {
     "name": "stdout",
     "output_type": "stream",
     "text": [
      "8786\n"
     ]
    }
   ],
   "source": [
    "total = 0\n",
    "for i in range(len(L)):\n",
    "    total += L[i]\n",
    "print(total)"
   ]
  },
  {
   "cell_type": "code",
   "execution_count": 11,
   "metadata": {},
   "outputs": [
    {
     "data": {
      "text/plain": [
       "[4, 'sgkjjsb', 1, 4, 7, 8, 3, 8665, 98]"
      ]
     },
     "execution_count": 11,
     "metadata": {},
     "output_type": "execute_result"
    }
   ],
   "source": [
    "L1 = [4,\"sgkjjsb\"]\n",
    "L2 = L1 + L\n",
    "L2"
   ]
  },
  {
   "cell_type": "code",
   "execution_count": 13,
   "metadata": {},
   "outputs": [
    {
     "data": {
      "text/plain": [
       "[1, 4, 7, 8, 8665, 98, 'ksdfjh', '25h', 'ksdfjh', '25h']"
      ]
     },
     "execution_count": 13,
     "metadata": {},
     "output_type": "execute_result"
    }
   ],
   "source": [
    "L.extend([\"ksdfjh\",\"25h\"])\n",
    "del(L[4])\n",
    "L"
   ]
  },
  {
   "cell_type": "code",
   "execution_count": 14,
   "metadata": {},
   "outputs": [
    {
     "name": "stdout",
     "output_type": "stream",
     "text": [
      "cool: [1, 3, 4, 5]\n",
      "cold: [1, 3, 4, 5, 'kozan']\n"
     ]
    }
   ],
   "source": [
    "hot = [\"as\",1,23]\n",
    "warm = hot          # exact same list reference\n",
    "cool = [1,3,4,5]\n",
    "cold = cool[:]      # copy and different object\n",
    "cold.append(\"kozan\")\n",
    "print('cool:',cool)\n",
    "print('cold:',cold)"
   ]
  },
  {
   "cell_type": "code",
   "execution_count": 15,
   "metadata": {},
   "outputs": [
    {
     "name": "stdout",
     "output_type": "stream",
     "text": [
      "('sunny', 'ccold')\n"
     ]
    }
   ],
   "source": [
    "def always_sunny(t1,t2):\n",
    "    sun = (\"sunny\",\"sun\")\n",
    "    first = t1[0]+t2[0]\n",
    "    return (sun[0],first)\n",
    "print(always_sunny(('cloudy'),('cold',))) # ('cold', ...) tuple"
   ]
  },
  {
   "cell_type": "code",
   "execution_count": null,
   "metadata": {},
   "outputs": [],
   "source": []
  }
 ],
 "metadata": {
  "kernelspec": {
   "display_name": "Python 3",
   "language": "python",
   "name": "python3"
  },
  "language_info": {
   "codemirror_mode": {
    "name": "ipython",
    "version": 3
   },
   "file_extension": ".py",
   "mimetype": "text/x-python",
   "name": "python",
   "nbconvert_exporter": "python",
   "pygments_lexer": "ipython3",
   "version": "3.8.3"
  }
 },
 "nbformat": 4,
 "nbformat_minor": 4
}
