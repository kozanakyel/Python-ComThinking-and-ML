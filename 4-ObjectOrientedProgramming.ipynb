{
 "cells": [
  {
   "cell_type": "code",
   "execution_count": 12,
   "metadata": {},
   "outputs": [],
   "source": [
    "# Object Oriented Programming\n",
    "\n",
    "class Coordinate(object):\n",
    "    \n",
    "    def __init__(self,x,y):\n",
    "        self.x = x\n",
    "        self.y = y\n",
    "    \n",
    "    def distance(self,other):\n",
    "        x_diff_sq = (self.x - other.x)**2\n",
    "        y_diff_sq = (self.y - other.y)**2\n",
    "        return (x_diff_sq + y_diff_sq)**0.5\n",
    "    \n",
    "    def __str__(self):\n",
    "        return \"<\"+str(self.x)+\",\"+str(self.y)+\">\""
   ]
  },
  {
   "cell_type": "code",
   "execution_count": 13,
   "metadata": {},
   "outputs": [
    {
     "name": "stdout",
     "output_type": "stream",
     "text": [
      "5.0\n",
      "5.0\n"
     ]
    }
   ],
   "source": [
    "c = Coordinate(3,4)\n",
    "zero = Coordinate(0,0)\n",
    "print(c.distance(zero))\n",
    "print(Coordinate.distance(c,zero))  # static used"
   ]
  },
  {
   "cell_type": "code",
   "execution_count": 14,
   "metadata": {},
   "outputs": [
    {
     "name": "stdout",
     "output_type": "stream",
     "text": [
      "<3,4>\n"
     ]
    }
   ],
   "source": [
    "print(c)"
   ]
  },
  {
   "cell_type": "code",
   "execution_count": 15,
   "metadata": {},
   "outputs": [
    {
     "data": {
      "text/plain": [
       "True"
      ]
     },
     "execution_count": 15,
     "metadata": {},
     "output_type": "execute_result"
    }
   ],
   "source": [
    "isinstance(c, Coordinate)"
   ]
  },
  {
   "cell_type": "code",
   "execution_count": 41,
   "metadata": {},
   "outputs": [],
   "source": [
    "class Fraction(object):\n",
    "    \n",
    "    def __init__(self, num, denom):\n",
    "        assert type(num) == int and type(denom) == int\n",
    "        self.num = num\n",
    "        self.denom = denom\n",
    "        \n",
    "    def __str__(self):\n",
    "        return str(self.num)+\"/\"+str(self.denom)\n",
    "    \n",
    "    def __add__(self, other):\n",
    "        top = self.num*other.denom + self.denom*other.num\n",
    "        bott = self.denom*other.denom\n",
    "        return Fraction(top, bott)\n",
    "    \n",
    "    def __sub__(self, other):\n",
    "        top = self.num*other.denom - self.denom*other.num\n",
    "        bott = self.denom*other.denom\n",
    "        return Fraction(top, bott)\n",
    "    \n",
    "    def __float__(self):\n",
    "        return self.num/self.denom\n",
    "    \n",
    "    def __eq__(self, other):\n",
    "        if float(self) == float(other):\n",
    "            return True\n",
    "        return False\n",
    "    \n",
    "    def inverse(self):\n",
    "        return Fraction(self.denom, self.num)"
   ]
  },
  {
   "cell_type": "code",
   "execution_count": 43,
   "metadata": {},
   "outputs": [
    {
     "name": "stdout",
     "output_type": "stream",
     "text": [
      "True\n",
      "16/32\n",
      "0.5\n",
      "0.5\n",
      "4.0\n"
     ]
    }
   ],
   "source": [
    "a = Fraction(1,4)\n",
    "b = Fraction(2,8)\n",
    "print(a == b)\n",
    "c = a + b\n",
    "print(c)\n",
    "print(float(c))\n",
    "print(Fraction.__float__(c))\n",
    "print(float(b.inverse()))"
   ]
  },
  {
   "cell_type": "code",
   "execution_count": 36,
   "metadata": {},
   "outputs": [],
   "source": [
    "class Animal(object):\n",
    "    \"\"\"\n",
    "    a.age not recommended type\n",
    "    we should use getter and setter methods\n",
    "    \"\"\"\n",
    "    def __init__(self, age):\n",
    "        self.age = age\n",
    "        self.name = None\n",
    "        \n",
    "    def get_age(self): \n",
    "        return self.age\n",
    "    \n",
    "    def get_name(self):\n",
    "        return self.name\n",
    "    \n",
    "    def set_age(self,newage):\n",
    "        self.age = newage\n",
    "    \n",
    "    def set_name(self,newname=\"\"):\n",
    "        self.name = newname\n",
    "    \n",
    "    def __str__(self):\n",
    "        return \"animal:\"+str(self.name)+\":\"+str(self.age)\n",
    "        "
   ]
  },
  {
   "cell_type": "code",
   "execution_count": 37,
   "metadata": {},
   "outputs": [
    {
     "name": "stdout",
     "output_type": "stream",
     "text": [
      "\n"
     ]
    }
   ],
   "source": [
    "a = Animal(3)\n",
    "a.set_name()\n",
    "print(a.get_name())"
   ]
  },
  {
   "cell_type": "code",
   "execution_count": 38,
   "metadata": {},
   "outputs": [],
   "source": [
    "class Cat(Animal):\n",
    "    def speak(self):\n",
    "        print(self)\n",
    "    def __str__(self):\n",
    "        return \"cat:\"+str(self.name)+\":\"+str(self.age)            "
   ]
  },
  {
   "cell_type": "code",
   "execution_count": 40,
   "metadata": {},
   "outputs": [],
   "source": [
    "class Person(Animal):\n",
    "    \n",
    "    tag = 1                  # Class Variable\n",
    "    \n",
    "    def __int__(self,name,age):\n",
    "        Animal.__init__(age)\n",
    "        self.set_name(name)\n",
    "        self.friends = []\n",
    "        Person.tag += 1\n",
    "    \n",
    "    def get_friends(self):\n",
    "        return self.friends\n",
    "    \n",
    "    def add_friend(self, fname):\n",
    "        if fname not in self.friends:\n",
    "            self.friends.append(fname)\n",
    "    \n",
    "    def speak(self):\n",
    "        print(\"hello\")\n",
    "        \n",
    "    def age_diff(self, other):\n",
    "        diff = self.age - other.age\n",
    "        print(abs(diff), \"year difference\")\n",
    "        \n",
    "    def __str__(self):\n",
    "        return \"person:\"+str(self.name)+\":\"+str(self.age)\n",
    "            "
   ]
  },
  {
   "cell_type": "code",
   "execution_count": null,
   "metadata": {},
   "outputs": [],
   "source": []
  }
 ],
 "metadata": {
  "kernelspec": {
   "display_name": "Python 3",
   "language": "python",
   "name": "python3"
  },
  "language_info": {
   "codemirror_mode": {
    "name": "ipython",
    "version": 3
   },
   "file_extension": ".py",
   "mimetype": "text/x-python",
   "name": "python",
   "nbconvert_exporter": "python",
   "pygments_lexer": "ipython3",
   "version": "3.8.3"
  }
 },
 "nbformat": 4,
 "nbformat_minor": 4
}
