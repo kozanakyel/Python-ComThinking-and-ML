{
 "cells": [
  {
   "cell_type": "code",
   "execution_count": 15,
   "metadata": {},
   "outputs": [],
   "source": [
    "import random, pylab, numpy"
   ]
  },
  {
   "cell_type": "code",
   "execution_count": 16,
   "metadata": {},
   "outputs": [],
   "source": [
    "#set line width\n",
    "pylab.rcParams['lines.linewidth'] = 4\n",
    "#set font size for titles \n",
    "pylab.rcParams['axes.titlesize'] = 20\n",
    "#set font size for labels on axes\n",
    "pylab.rcParams['axes.labelsize'] = 20\n",
    "#set size of numbers on x-axis\n",
    "pylab.rcParams['xtick.labelsize'] = 16\n",
    "#set size of numbers on y-axis\n",
    "pylab.rcParams['ytick.labelsize'] = 16\n",
    "#set size of ticks on x-axis\n",
    "pylab.rcParams['xtick.major.size'] = 7\n",
    "#set size of ticks on y-axis\n",
    "pylab.rcParams['ytick.major.size'] = 7\n",
    "#set size of markers\n",
    "pylab.rcParams['lines.markersize'] = 10\n",
    "#set number of examples shown in legends\n",
    "pylab.rcParams['legend.numpoints'] = 1"
   ]
  },
  {
   "cell_type": "code",
   "execution_count": 17,
   "metadata": {},
   "outputs": [],
   "source": [
    "def rSquared(observed, predicted):\n",
    "    error = ((predicted - observed)**2).sum()\n",
    "    meanError = error/len(observed)\n",
    "    return 1 - (meanError/numpy.var(observed))"
   ]
  },
  {
   "cell_type": "code",
   "execution_count": 18,
   "metadata": {},
   "outputs": [],
   "source": [
    "def genFits(xVals, yVals, degrees):\n",
    "    models = []\n",
    "    for d in degrees:\n",
    "        model = pylab.polyfit(xVals, yVals, d)\n",
    "        models.append(model)\n",
    "    return models"
   ]
  },
  {
   "cell_type": "code",
   "execution_count": 19,
   "metadata": {},
   "outputs": [],
   "source": [
    "def testFits(models, degrees, xVals, yVals, title):\n",
    "    pylab.plot(xVals, yVals, 'o', label = 'Data')\n",
    "    for i in range(len(models)):\n",
    "        estYVals = pylab.polyval(models[i], xVals)\n",
    "        error = rSquared(yVals, estYVals)\n",
    "        pylab.plot(xVals, estYVals,\n",
    "                   label = 'Fit of degree '\\\n",
    "                   + str(degrees[i])\\\n",
    "                   + ', R2 = ' + str(round(error, 5)))\n",
    "    pylab.legend(loc = 'best')\n",
    "    pylab.title(title)"
   ]
  },
  {
   "cell_type": "code",
   "execution_count": 20,
   "metadata": {},
   "outputs": [],
   "source": [
    "def getData(fileName):\n",
    "    dataFile = open(fileName, 'r')\n",
    "    distances = []\n",
    "    masses = []\n",
    "    dataFile.readline() #discard header\n",
    "    for line in dataFile:\n",
    "        d, m = line.split()\n",
    "        distances.append(float(d))\n",
    "        masses.append(float(m))\n",
    "    dataFile.close()\n",
    "    return (masses, distances)"
   ]
  },
  {
   "cell_type": "code",
   "execution_count": 21,
   "metadata": {},
   "outputs": [],
   "source": [
    "def labelPlot():\n",
    "    pylab.title('Measured Displacement of Spring')\n",
    "    pylab.xlabel('|Force| (Newtons)')\n",
    "    pylab.ylabel('Distance (meters)')\n",
    "\n",
    "def plotData(fileName):\n",
    "    xVals, yVals = getData(fileName)\n",
    "    xVals = pylab.array(xVals)\n",
    "    yVals = pylab.array(yVals)\n",
    "    xVals = xVals*9.81  #acc. due to gravity\n",
    "    pylab.plot(xVals, yVals, 'bo',\n",
    "               label = 'Measured displacements')\n",
    "    labelPlot()"
   ]
  },
  {
   "cell_type": "code",
   "execution_count": 22,
   "metadata": {},
   "outputs": [],
   "source": [
    "def fitData(fileName):\n",
    "    xVals, yVals = getData(fileName)\n",
    "    xVals = pylab.array(xVals)\n",
    "    yVals = pylab.array(yVals)\n",
    "    xVals = xVals*9.81 #get force\n",
    "    pylab.plot(xVals, yVals, 'bo',\n",
    "               label = 'Measured points')                 \n",
    "    model = pylab.polyfit(xVals, yVals, 1)\n",
    "    xVals = xVals + [2]\n",
    "    yVals = yVals + []\n",
    "    estYVals = pylab.polyval(model, xVals)\n",
    "    pylab.plot(xVals, estYVals, 'r',\n",
    "               label = 'Linear fit, r**2 = '\n",
    "               + str(round(rSquared(yVals, estYVals), 5)))                \n",
    "    model = pylab.polyfit(xVals, yVals, 2)\n",
    "    estYVals = pylab.polyval(model, xVals)\n",
    "    pylab.plot(xVals, estYVals, 'g--',\n",
    "               label = 'Quadratic fit, r**2 = '\n",
    "               + str(round(rSquared(yVals, estYVals), 5)))\n",
    "    pylab.title('A Linear Spring')\n",
    "    labelPlot()\n",
    "    pylab.legend(loc = 'best')"
   ]
  },
  {
   "cell_type": "code",
   "execution_count": 23,
   "metadata": {},
   "outputs": [],
   "source": [
    "random.seed(0)"
   ]
  },
  {
   "cell_type": "code",
   "execution_count": 24,
   "metadata": {},
   "outputs": [],
   "source": [
    "class tempDatum(object):\n",
    "    def __init__(self, s):\n",
    "        info = s.split(',')\n",
    "        self.high = float(info[1])\n",
    "        self.year = int(info[2][0:4])\n",
    "    def getHigh(self):\n",
    "        return self.high\n",
    "    def getYear(self):\n",
    "        return self.year"
   ]
  },
  {
   "cell_type": "code",
   "execution_count": 25,
   "metadata": {},
   "outputs": [],
   "source": [
    "def getTempData():\n",
    "    inFile = open('temperatures1.csv')\n",
    "    data = []\n",
    "    for l in inFile:\n",
    "        data.append(tempDatum(l))\n",
    "    return data"
   ]
  },
  {
   "cell_type": "code",
   "execution_count": 26,
   "metadata": {},
   "outputs": [],
   "source": [
    "def getYearlyMeans(data):\n",
    "    years = {}\n",
    "    for d in data:\n",
    "        try:\n",
    "            years[d.getYear()].append(d.getHigh())\n",
    "        except:\n",
    "            years[d.getYear()] = [d.getHigh()]\n",
    "    for y in years:\n",
    "        years[y] = sum(years[y])/len(years[y])\n",
    "    return years"
   ]
  },
  {
   "cell_type": "code",
   "execution_count": 27,
   "metadata": {},
   "outputs": [
    {
     "data": {
      "text/plain": [
       "Text(0.5, 1.0, 'Select U.S. Cities')"
      ]
     },
     "execution_count": 27,
     "metadata": {},
     "output_type": "execute_result"
    },
    {
     "data": {
      "image/png": "[encoded data removed]",
      "text/plain": [
       "<Figure size 432x288 with 1 Axes>"
      ]
     },
     "metadata": {
      "needs_background": "light"
     },
     "output_type": "display_data"
    }
   ],
   "source": [
    "data = getTempData()\n",
    "years = getYearlyMeans(data)\n",
    "xVals, yVals = [], []\n",
    "for e in years:\n",
    "    xVals.append(e)\n",
    "    yVals.append(years[e])\n",
    "pylab.plot(xVals, yVals)\n",
    "pylab.xlabel('Year')\n",
    "pylab.ylabel('Mean Daily High (C)')\n",
    "pylab.title('Select U.S. Cities')"
   ]
  },
  {
   "cell_type": "code",
   "execution_count": 28,
   "metadata": {},
   "outputs": [],
   "source": [
    "def splitData(xVals, yVals):\n",
    "    toTrain = random.sample(range(len(xVals)),\n",
    "                            len(xVals)//2)\n",
    "    trainX, trainY, testX, testY = [],[],[],[]\n",
    "    for i in range(len(xVals)):\n",
    "        if i in toTrain:\n",
    "            trainX.append(xVals[i])\n",
    "            trainY.append(yVals[i])\n",
    "        else:\n",
    "            testX.append(xVals[i])\n",
    "            testY.append(yVals[i])\n",
    "    return trainX, trainY, testX, testY"
   ]
  },
  {
   "cell_type": "code",
   "execution_count": 29,
   "metadata": {},
   "outputs": [
    {
     "name": "stdout",
     "output_type": "stream",
     "text": [
      "Mean R-squares for test data\n",
      "For dimensionality 1 mean = 0.7535 Std = 0.0656\n",
      "For dimensionality 2 mean = 0.7291 Std = 0.0744\n",
      "For dimensionality 3 mean = 0.7039 Std = 0.0684\n",
      "For dimensionality 4 mean = 0.7169 Std = 0.0777\n",
      "[0.7828002156420483, 0.8063796402505176, 0.7963713275727426, 0.7843388574321191, 0.7600111202485312, 0.5708893650703397, 0.7211540856258911, 0.7435827676214933, 0.7903145537514858, 0.7792023858639963]\n"
     ]
    }
   ],
   "source": [
    "##UNCOVER FOR SECOND DEMO    \n",
    "numSubsets = 10\n",
    "dimensions = (1, 2, 3, 4)\n",
    "rSquares = {}\n",
    "for d in dimensions:\n",
    "    rSquares[d] = []\n",
    "        \n",
    "for f in range(numSubsets):\n",
    "    trainX, trainY, testX, testY = splitData(xVals, yVals)\n",
    "    for d in dimensions:\n",
    "        model = pylab.polyfit(trainX, trainY, d)\n",
    "        estYVals = pylab.polyval(model, trainX) #polyval estimate y values as list\n",
    "        estYVals = pylab.polyval(model, testX)\n",
    "        rSquares[d].append(rSquared(testY, estYVals))\n",
    "print('Mean R-squares for test data')\n",
    "for d in dimensions:\n",
    "    mean = round(sum(rSquares[d])/len(rSquares[d]), 4)\n",
    "    sd = round(numpy.std(rSquares[d]), 4)\n",
    "    print('For dimensionality', d, 'mean =', mean,\n",
    "          'Std =', sd)\n",
    "print(rSquares[1])"
   ]
  },
  {
   "cell_type": "code",
   "execution_count": null,
   "metadata": {},
   "outputs": [],
   "source": []
  }
 ],
 "metadata": {
  "kernelspec": {
   "display_name": "Python 3",
   "language": "python",
   "name": "python3"
  },
  "language_info": {
   "codemirror_mode": {
    "name": "ipython",
    "version": 3
   },
   "file_extension": ".py",
   "mimetype": "text/x-python",
   "name": "python",
   "nbconvert_exporter": "python",
   "pygments_lexer": "ipython3",
   "version": "3.8.3"
  }
 },
 "nbformat": 4,
 "nbformat_minor": 4
}
