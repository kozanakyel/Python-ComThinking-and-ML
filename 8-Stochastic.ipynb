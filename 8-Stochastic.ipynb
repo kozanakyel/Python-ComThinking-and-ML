{
 "cells": [
  {
   "cell_type": "code",
   "execution_count": 23,
   "metadata": {},
   "outputs": [],
   "source": [
    "# Simulation Birthdate and DieRoll\n",
    "\n",
    "import random"
   ]
  },
  {
   "cell_type": "code",
   "execution_count": 24,
   "metadata": {},
   "outputs": [],
   "source": [
    "def rollDie():\n",
    "    return random.choice([1,2,3,4,5,6])"
   ]
  },
  {
   "cell_type": "code",
   "execution_count": 25,
   "metadata": {},
   "outputs": [],
   "source": [
    "def testRoll(n=10):\n",
    "    result = ''\n",
    "    for i in range(n):\n",
    "        result = result + str(rollDie())\n",
    "    print(result)\n",
    "    "
   ]
  },
  {
   "cell_type": "code",
   "execution_count": 26,
   "metadata": {},
   "outputs": [
    {
     "name": "stdout",
     "output_type": "stream",
     "text": [
      "64242\n"
     ]
    }
   ],
   "source": [
    "testRoll(5)"
   ]
  },
  {
   "cell_type": "code",
   "execution_count": 27,
   "metadata": {},
   "outputs": [],
   "source": [
    "random.seed(0)"
   ]
  },
  {
   "cell_type": "code",
   "execution_count": 28,
   "metadata": {},
   "outputs": [],
   "source": [
    "def runSim(goal, numTrials, txt):\n",
    "    total = 0\n",
    "    for i in range(numTrials):\n",
    "        result = ''\n",
    "        for j in range(len(goal)):\n",
    "            result += str(rollDie())\n",
    "        if result == goal:\n",
    "            total += 1\n",
    "    print('Actual probablity of', txt, '=',round(1/(6**len(goal)),8))\n",
    "    estProbability = round(total/numTrials, 8)\n",
    "    print('Estimated probability of', txt, '=',\n",
    "                 round(estProbability,8))"
   ]
  },
  {
   "cell_type": "code",
   "execution_count": 29,
   "metadata": {},
   "outputs": [
    {
     "name": "stdout",
     "output_type": "stream",
     "text": [
      "Actual probablity of 11111 = 0.0001286\n",
      "Estimated probability of 11111 = 0.0\n"
     ]
    }
   ],
   "source": [
    "runSim('11111',1000,'11111')"
   ]
  },
  {
   "cell_type": "code",
   "execution_count": 30,
   "metadata": {},
   "outputs": [],
   "source": [
    "def sameDate(numPeople, numSame):\n",
    "    possibleDates = range(366)\n",
    "#    possibleDates = 4*list(range(0, 57)) + [58]\\\n",
    "#                    + 4*list(range(59, 366))\\\n",
    "#                    + 4*list(range(180, 270))\n",
    "    birthdays = [0]*366\n",
    "    for p in range(numPeople):\n",
    "        birthdate = random.choice(possibleDates)\n",
    "        birthdays[birthdate] += 1\n",
    "    return max(birthdays) >= numSame\n"
   ]
  },
  {
   "cell_type": "code",
   "execution_count": 31,
   "metadata": {},
   "outputs": [],
   "source": [
    "def birthdayProb(numPeople, numSame, numTrials):\n",
    "    numHits = 0\n",
    "    for t in range(numTrials):\n",
    "        if sameDate(numPeople,numSame):\n",
    "            numHits += 1\n",
    "    return numHits/numTrials"
   ]
  },
  {
   "cell_type": "code",
   "execution_count": 32,
   "metadata": {},
   "outputs": [],
   "source": [
    "import math"
   ]
  },
  {
   "cell_type": "code",
   "execution_count": 33,
   "metadata": {},
   "outputs": [
    {
     "name": "stdout",
     "output_type": "stream",
     "text": [
      "For 10 est prob of a shared bithday is 0.1321\n",
      "Actual prob. for N = 100 = 0.1166454118039999\n",
      "For 20 est prob of a shared bithday is 0.445\n",
      "Actual prob. for N = 100 = 0.4105696370550831\n",
      "For 40 est prob of a shared bithday is 0.9146\n",
      "Actual prob. for N = 100 = 0.89054476188945\n",
      "For 100 est prob of a shared bithday is 1.0\n",
      "Actual prob. for N = 100 = 0.9999996784357714\n"
     ]
    }
   ],
   "source": [
    "for numPeople in [10,20,40,100]:\n",
    "    print('For',numPeople,\n",
    "         'est prob of a shared bithday is',\n",
    "         birthdayProb(numPeople,2,10000))\n",
    "    numerator = math.factorial(366)\n",
    "    denom = (366**numPeople)*math.factorial(366-numPeople)\n",
    "    print('Actual prob. for N = 100 =', \n",
    "         1 - numerator/denom)"
   ]
  },
  {
   "cell_type": "code",
   "execution_count": null,
   "metadata": {},
   "outputs": [],
   "source": []
  }
 ],
 "metadata": {
  "kernelspec": {
   "display_name": "Python 3",
   "language": "python",
   "name": "python3"
  },
  "language_info": {
   "codemirror_mode": {
    "name": "ipython",
    "version": 3
   },
   "file_extension": ".py",
   "mimetype": "text/x-python",
   "name": "python",
   "nbconvert_exporter": "python",
   "pygments_lexer": "ipython3",
   "version": "3.8.3"
  }
 },
 "nbformat": 4,
 "nbformat_minor": 4
}
