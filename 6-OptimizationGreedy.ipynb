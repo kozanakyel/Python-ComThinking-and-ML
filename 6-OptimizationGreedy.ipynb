{
 "cells": [
  {
   "cell_type": "code",
   "execution_count": 1,
   "metadata": {},
   "outputs": [],
   "source": [
    "\"\"\"\n",
    "OPTIMIZATION and Greedy Algoritm-1\n",
    "\"\"\"\n",
    "\n",
    "class Food():\n",
    "    def __init__(self,n,v,w):\n",
    "        self.name = n\n",
    "        self.value = v\n",
    "        self.calories = w\n",
    "    \n",
    "    def getValue(self):\n",
    "        return self.value\n",
    "    \n",
    "    def getCost(self):\n",
    "        return self.calories\n",
    "    \n",
    "    def density(self):\n",
    "        return self.getValue()/self.getCost()\n",
    "    \n",
    "    def __str__(self):\n",
    "        return self.name + ': <' + str(self.value)\\\n",
    "            + ', '+str(self.calories) + '>'"
   ]
  },
  {
   "cell_type": "code",
   "execution_count": 2,
   "metadata": {},
   "outputs": [],
   "source": [
    "def buildMenu(names,values,calories):\n",
    "    \"\"\"\n",
    "    3 parameters must be same length as List\n",
    "    name:string\n",
    "    values calories numbers\n",
    "    return list of foods\n",
    "    \"\"\"\n",
    "    menu = []\n",
    "    for i in range(len(values)):\n",
    "        menu.append(Food(names[i],values[i],calories[i]))\n",
    "    return menu"
   ]
  },
  {
   "cell_type": "code",
   "execution_count": 3,
   "metadata": {},
   "outputs": [],
   "source": []
  },
  {
   "cell_type": "code",
   "execution_count": 4,
   "metadata": {},
   "outputs": [],
   "source": [
    "def greedy(items, maxCost, keyFunction):  #O(nlogn)->sort+n\n",
    "    \"\"\"\n",
    "    Assumes items as list, maxcost > 0,\n",
    "    keyfunc maps elements of items\n",
    "    \"\"\"\n",
    "    itemsCopy = sorted(items,key=keyFunction,reverse=True)\n",
    "    result = []\n",
    "    totalValue, totalCost = 0.0, 0.0\n",
    "    \n",
    "    for i in range(len(itemsCopy)):\n",
    "        if (totalCost+itemsCopy[i].getCost()) <= maxCost:\n",
    "            result.append(itemsCopy[i])\n",
    "            totalCost += itemsCopy[i].getCost()\n",
    "            totalValue += itemsCopy[i].getValue()\n",
    "    return (result, totalValue)"
   ]
  },
  {
   "cell_type": "code",
   "execution_count": 5,
   "metadata": {},
   "outputs": [],
   "source": [
    "def testGreedy(items, constraint, keyFunction):\n",
    "    taken, val = greedy(items, constraint, keyFunction)\n",
    "    print('Total value of items taken =', val)\n",
    "    for item in taken:\n",
    "        print('   ', item)"
   ]
  },
  {
   "cell_type": "code",
   "execution_count": 32,
   "metadata": {},
   "outputs": [],
   "source": [
    "def testGreedys(foods, maxUnits):\n",
    "    print('Use greedy by value to allocate', maxUnits,'calories')\n",
    "    testGreedy(foods, maxUnits, Food.getValue)\n",
    "    print('\\nUse greedy by cost to allocate', maxUnits,'calories')\n",
    "    testGreedy(foods, maxUnits, lambda x: 1/Food.getCost(x))\n",
    "    print('\\nUSe greedy by density to allocate',maxUnits,'calories')\n",
    "    testGreedy(foods,maxUnits,Food.density)\n",
    "\n",
    "# testGreedys(800)"
   ]
  },
  {
   "cell_type": "code",
   "execution_count": 33,
   "metadata": {},
   "outputs": [],
   "source": [
    "def fastMaxVal(toConsider, avail, memo = {}):\n",
    "    \"\"\"Assumes toConsider a list of items, avail a weight\n",
    "       Returns a tuple of the total value of a solution to the\n",
    "         0/1 knapsack problem and the items of that solution\"\"\"\n",
    "    if (len(toConsider),avail) in memo:\n",
    "        result = memo[(len(toConsider),avail)]\n",
    "    elif toConsider== [] > avail == 0:\n",
    "        #Explore right branch only\n",
    "        result = (0,())\n",
    "    elif toConsider[0].getCost() > avail:\n",
    "        result = fastMaxVal(toConsider[1:], avail, memo)\n",
    "    else:\n",
    "        nextItem = toConsider[0]\n",
    "        #Explore left branch\n",
    "        withVal, withToTake = fastMaxVal(toConsider[1:],\n",
    "                                     avail - nextItem.getCost(), memo)\n",
    "        withVal += nextItem.getValue()\n",
    "        #Explore right branch\n",
    "        withoutVal, withoutToTake = maxVal(toConsider[1:], avail, memo)\n",
    "        #Choose better branch\n",
    "        if withVal > withoutVal:\n",
    "            result = (withVal, withToTake + (nextItem,))\n",
    "        else:\n",
    "            result = (withoutVal, withoutToTake)\n",
    "    memo[(len(toConsider), avail)] = result\n",
    "    return result"
   ]
  },
  {
   "cell_type": "code",
   "execution_count": 34,
   "metadata": {},
   "outputs": [],
   "source": [
    "def testMaxVal(foods, maxUnits, algorithm, printItems = True):\n",
    "    print('Menu contains', len(foods), 'items')\n",
    "    print('Use search tree to allocate', maxUnits,\n",
    "          'calories')\n",
    "    val, taken = algorithm(foods, maxUnits)\n",
    "    if printItems:\n",
    "        print('Total value of items taken =', val)\n",
    "        for item in taken:\n",
    "            print('   ', item)\n"
   ]
  },
  {
   "cell_type": "code",
   "execution_count": 35,
   "metadata": {},
   "outputs": [],
   "source": [
    "names = ['wine', 'beer', 'pizza', 'burger', 'fries',\n",
    "         'cola', 'apple', 'donut', 'cake']\n",
    "values = [89,90,95,100,90,79,50,10]\n",
    "calories = [123,154,258,354,365,150,95,195]\n",
    "foods = buildMenu(names, values, calories)"
   ]
  },
  {
   "cell_type": "code",
   "execution_count": 21,
   "metadata": {},
   "outputs": [
    {
     "name": "stdout",
     "output_type": "stream",
     "text": [
      "Use greedy by value to allocate 750 calories\n",
      "Total value of items taken = 284.0\n",
      "    burger: <100, 354>\n",
      "    pizza: <95, 258>\n",
      "    wine: <89, 123>\n",
      "\n",
      "Use greedy by cost to allocate 750 calories\n",
      "Total value of items taken = 318.0\n",
      "    apple: <50, 95>\n",
      "    wine: <89, 123>\n",
      "    cola: <79, 150>\n",
      "    beer: <90, 154>\n",
      "    donut: <10, 195>\n",
      "\n",
      "USe greedy by density to allocate 750 calories\n",
      "Total value of items taken = 318.0\n",
      "    wine: <89, 123>\n",
      "    beer: <90, 154>\n",
      "    cola: <79, 150>\n",
      "    apple: <50, 95>\n",
      "    donut: <10, 195>\n",
      "\n",
      "Use search tree to allocate 750 calories\n",
      "Total value of items taken = 353\n",
      "    cola: <79, 150>\n",
      "    pizza: <95, 258>\n",
      "    beer: <90, 154>\n",
      "    wine: <89, 123>\n"
     ]
    }
   ],
   "source": [
    "testGreedys(foods, 750)\n",
    "print('')\n",
    "testMaxVal(foods, 750)"
   ]
  },
  {
   "cell_type": "code",
   "execution_count": 22,
   "metadata": {},
   "outputs": [],
   "source": [
    "import random"
   ]
  },
  {
   "cell_type": "code",
   "execution_count": 23,
   "metadata": {},
   "outputs": [],
   "source": [
    "def buildLargeMenu(numItems, maxVal, maxCost):\n",
    "    items = []\n",
    "    for i in range(numItems):\n",
    "        items.append(Food(str(i),\n",
    "                         random.randint(1,maxVal),\n",
    "                         random.randint(1, maxCost)))\n",
    "    return items"
   ]
  },
  {
   "cell_type": "code",
   "execution_count": 25,
   "metadata": {},
   "outputs": [],
   "source": [
    "#for numItems in (5, 10, 15, 20, 25, 30, 35, 40, 45):\n",
    "#    print('Try a menu with', numItems, 'items')\n",
    "#    items = buildLargeMenu(numItems, 90, 250)\n",
    "#    testMaxVal(items, 750, False) "
   ]
  },
  {
   "cell_type": "code",
   "execution_count": 26,
   "metadata": {},
   "outputs": [],
   "source": [
    "def fib(n):\n",
    "    if n == 0 or n== 1:\n",
    "        return 1\n",
    "    else:\n",
    "        return fib(n-1) + fib(n-2)"
   ]
  },
  {
   "cell_type": "code",
   "execution_count": 28,
   "metadata": {},
   "outputs": [],
   "source": [
    "# Fibonacci CAllTree\n",
    "\n",
    "def fastFib(n, memo = {}):\n",
    "    if n == 0 or n == 1:\n",
    "        return 1\n",
    "    try:\n",
    "        return memo[0]\n",
    "    except KeyError:\n",
    "        result = fastFib(n-1, memo) + fastFib(n-2, memo)\n",
    "        memo[n] = result\n",
    "        return result\n",
    "    "
   ]
  },
  {
   "cell_type": "code",
   "execution_count": 31,
   "metadata": {},
   "outputs": [],
   "source": [
    "#for i in range(121):\n",
    "#    print('fib(' + str(i) + ') =', fastFib(i))"
   ]
  },
  {
   "cell_type": "code",
   "execution_count": null,
   "metadata": {},
   "outputs": [],
   "source": []
  }
 ],
 "metadata": {
  "kernelspec": {
   "display_name": "Python 3",
   "language": "python",
   "name": "python3"
  },
  "language_info": {
   "codemirror_mode": {
    "name": "ipython",
    "version": 3
   },
   "file_extension": ".py",
   "mimetype": "text/x-python",
   "name": "python",
   "nbconvert_exporter": "python",
   "pygments_lexer": "ipython3",
   "version": "3.8.3"
  }
 },
 "nbformat": 4,
 "nbformat_minor": 4
}
