{
 "cells": [
  {
   "cell_type": "code",
   "execution_count": 3,
   "metadata": {},
   "outputs": [
    {
     "name": "stdout",
     "output_type": "stream",
     "text": [
      "num_guesses = 24\n",
      "10.626590251922607 is close to the cube root of 1200\n"
     ]
    }
   ],
   "source": [
    "# BiSection search\n",
    "# search space: first g, N/2, sec g: N/4,kth g: N/2**k\n",
    "# big o not: logN \n",
    "cube = 1200\n",
    "epsilon = 0.01\n",
    "num_guesses = 0\n",
    "low = 0\n",
    "high = cube\n",
    "guess = (high + low)/2.0\n",
    "while abs(guess**3 - cube) >= epsilon:\n",
    "    if guess**3 < cube:\n",
    "        low = guess\n",
    "    else:\n",
    "        high = guess\n",
    "    guess = (high+low)/2.0\n",
    "    num_guesses += 1\n",
    "print('num_guesses =',num_guesses)\n",
    "print(guess,'is close to the cube root of',cube)"
   ]
  },
  {
   "cell_type": "code",
   "execution_count": 6,
   "metadata": {},
   "outputs": [
    {
     "name": "stdout",
     "output_type": "stream",
     "text": [
      "common better 1\n",
      "common better 2\n",
      "common better 3\n",
      "common better 4\n",
      "common better 5\n",
      "common better 6\n",
      "common better 7\n"
     ]
    }
   ],
   "source": [
    "# Caution: each char matching one time \n",
    "# because of break statement\n",
    "c = 0\n",
    "s1 = \"mit u rock\"\n",
    "s2 = \"i rule mit\"\n",
    "if len(s1) == len(s2):\n",
    "    for char1 in s1:\n",
    "        for char2 in s2:\n",
    "            if char1 == char2:\n",
    "                c += 1\n",
    "                print(\"common better\", c)\n",
    "                break"
   ]
  },
  {
   "cell_type": "code",
   "execution_count": 7,
   "metadata": {},
   "outputs": [],
   "source": [
    "def is_even_without_return(i):\n",
    "    \"\"\"\n",
    "    input: i, a positive int\n",
    "    does not return anything\n",
    "    \"\"\"\n",
    "    print('without return')\n",
    "    reaminder = i%2\n",
    "    # return None"
   ]
  },
  {
   "cell_type": "code",
   "execution_count": 8,
   "metadata": {},
   "outputs": [
    {
     "name": "stdout",
     "output_type": "stream",
     "text": [
      "2\n",
      "5\n",
      "5\n",
      "6\n",
      "5\n"
     ]
    },
    {
     "ename": "UnboundLocalError",
     "evalue": "local variable 'd' referenced before assignment",
     "output_type": "error",
     "traceback": [
      "\u001b[0;31m---------------------------------------------------------------------------\u001b[0m",
      "\u001b[0;31mUnboundLocalError\u001b[0m                         Traceback (most recent call last)",
      "\u001b[0;32m<ipython-input-8-e111f5d28eac>\u001b[0m in \u001b[0;36m<module>\u001b[0;34m\u001b[0m\n\u001b[1;32m     32\u001b[0m     \u001b[0md\u001b[0m \u001b[0;34m+=\u001b[0m \u001b[0;36m1\u001b[0m\u001b[0;34m\u001b[0m\u001b[0;34m\u001b[0m\u001b[0m\n\u001b[1;32m     33\u001b[0m \u001b[0me\u001b[0m \u001b[0;34m=\u001b[0m \u001b[0;36m5\u001b[0m\u001b[0;34m\u001b[0m\u001b[0;34m\u001b[0m\u001b[0m\n\u001b[0;32m---> 34\u001b[0;31m \u001b[0mh\u001b[0m\u001b[0;34m(\u001b[0m\u001b[0me\u001b[0m\u001b[0;34m)\u001b[0m\u001b[0;34m\u001b[0m\u001b[0;34m\u001b[0m\u001b[0m\n\u001b[0m\u001b[1;32m     35\u001b[0m \u001b[0mprint\u001b[0m\u001b[0;34m(\u001b[0m\u001b[0me\u001b[0m\u001b[0;34m)\u001b[0m\u001b[0;34m\u001b[0m\u001b[0;34m\u001b[0m\u001b[0m\n",
      "\u001b[0;32m<ipython-input-8-e111f5d28eac>\u001b[0m in \u001b[0;36mh\u001b[0;34m(c)\u001b[0m\n\u001b[1;32m     30\u001b[0m     \u001b[0mLocalError\u001b[0m\u001b[0;34m\u001b[0m\u001b[0;34m\u001b[0m\u001b[0m\n\u001b[1;32m     31\u001b[0m     \"\"\"\n\u001b[0;32m---> 32\u001b[0;31m     \u001b[0md\u001b[0m \u001b[0;34m+=\u001b[0m \u001b[0;36m1\u001b[0m\u001b[0;34m\u001b[0m\u001b[0;34m\u001b[0m\u001b[0m\n\u001b[0m\u001b[1;32m     33\u001b[0m \u001b[0me\u001b[0m \u001b[0;34m=\u001b[0m \u001b[0;36m5\u001b[0m\u001b[0;34m\u001b[0m\u001b[0;34m\u001b[0m\u001b[0m\n\u001b[1;32m     34\u001b[0m \u001b[0mh\u001b[0m\u001b[0;34m(\u001b[0m\u001b[0me\u001b[0m\u001b[0;34m)\u001b[0m\u001b[0;34m\u001b[0m\u001b[0;34m\u001b[0m\u001b[0m\n",
      "\u001b[0;31mUnboundLocalError\u001b[0m: local variable 'd' referenced before assignment"
     ]
    }
   ],
   "source": [
    "# Scope example in Python\n",
    "\n",
    "def f(y):\n",
    "    \"\"\"\n",
    "    X variable defined in def\n",
    "    not any problem because y= 5\n",
    "    but x = 1...\n",
    "    \"\"\"\n",
    "    x = 1\n",
    "    x += 1\n",
    "    print(x)\n",
    "x = 5\n",
    "f(x)\n",
    "print(x)\n",
    "\n",
    "def g(a):\n",
    "    \"\"\"\n",
    "    this def reach b variable\n",
    "    outside scope global var...\n",
    "    \"\"\"\n",
    "    print(b)\n",
    "    print(b+1)\n",
    "b = 5\n",
    "g(5)\n",
    "print(b)\n",
    "\n",
    "def h(c):\n",
    "    \"\"\"\n",
    "    def reach UnBounded\n",
    "    LocalError\n",
    "    \"\"\"\n",
    "    d += 1\n",
    "e = 5\n",
    "h(e)\n",
    "print(e)"
   ]
  },
  {
   "cell_type": "code",
   "execution_count": 9,
   "metadata": {},
   "outputs": [
    {
     "name": "stdout",
     "output_type": "stream",
     "text": [
      "g: x = 4\n"
     ]
    }
   ],
   "source": [
    "# Global scope: g (some code), x (3), z -> g(x)x=3 \n",
    "# h(some code)-> new scope, x='abc' \n",
    "# Func call => new Scope\n",
    "def g(x):\n",
    "    def h():\n",
    "        x = 'abc'\n",
    "    x = x + 1\n",
    "    print('g: x =', x)\n",
    "    h()\n",
    "    return x\n",
    "x = 3\n",
    "z = g(x)"
   ]
  },
  {
   "cell_type": "code",
   "execution_count": 1,
   "metadata": {},
   "outputs": [
    {
     "name": "stdout",
     "output_type": "stream",
     "text": [
      "5\n",
      "6\n",
      "8\n",
      "None\n"
     ]
    }
   ],
   "source": [
    "def add(x,y):\n",
    "    return x+y\n",
    "def mul(x,y):\n",
    "    print(x*y)\n",
    "add(1,2)\n",
    "print(add(2,3))\n",
    "mul(2,3)\n",
    "print(mul(2,4))"
   ]
  },
  {
   "cell_type": "code",
   "execution_count": null,
   "metadata": {},
   "outputs": [],
   "source": []
  }
 ],
 "metadata": {
  "kernelspec": {
   "display_name": "Python 3",
   "language": "python",
   "name": "python3"
  },
  "language_info": {
   "codemirror_mode": {
    "name": "ipython",
    "version": 3
   },
   "file_extension": ".py",
   "mimetype": "text/x-python",
   "name": "python",
   "nbconvert_exporter": "python",
   "pygments_lexer": "ipython3",
   "version": "3.8.3"
  }
 },
 "nbformat": 4,
 "nbformat_minor": 4
}
