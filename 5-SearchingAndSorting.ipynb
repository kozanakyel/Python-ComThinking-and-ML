{
 "cells": [
  {
   "cell_type": "code",
   "execution_count": 1,
   "metadata": {},
   "outputs": [],
   "source": [
    "# BiSection Search -> O(log n)\n",
    "\n",
    "def bisect_search(L,e):\n",
    "    if L == []:\n",
    "        return False\n",
    "    elif len(L) == 1:\n",
    "        return L[0] == e\n",
    "    else:\n",
    "        half = len(L)//2\n",
    "        if L[half] > e:\n",
    "            return bisect_search(L[:half],e)\n",
    "        else:\n",
    "            return bisect_search(L[half:],e)"
   ]
  },
  {
   "cell_type": "code",
   "execution_count": 2,
   "metadata": {},
   "outputs": [],
   "source": [
    "def bisect_search2(L,e):\n",
    "    def bisect_search_helper(L,e,low,high):\n",
    "        if high == low:\n",
    "            return L[low] == e\n",
    "        mid = (low+high)//2\n",
    "        if L[mid] == e:\n",
    "            return True\n",
    "        elif L[mid] > e:\n",
    "            if low == mid:\n",
    "                return False\n",
    "            else:\n",
    "                return bisect_search_helper(L,e, low,mid-1)\n",
    "        else:\n",
    "            return bisect_search_helper(L,e,mid+1,high)\n",
    "    if len(L) == 0:\n",
    "        return False\n",
    "    else:\n",
    "        return bisect_search_helper(L,e,0,len(L)-1)"
   ]
  },
  {
   "cell_type": "code",
   "execution_count": 3,
   "metadata": {},
   "outputs": [],
   "source": [
    "# Exponential complexity\n",
    "\n",
    "def genSubsets(L):\n",
    "    res = []\n",
    "    if len(L) == 0:\n",
    "        return [[]]\n",
    "    smaller = genSubsets(L[:-1])\n",
    "    extra = L[-1:]\n",
    "    new = []\n",
    "    for small in smaller:\n",
    "        new.append(small+extra)\n",
    "    return smaller+new"
   ]
  },
  {
   "cell_type": "code",
   "execution_count": 4,
   "metadata": {},
   "outputs": [],
   "source": [
    "def bogo_sort(L):\n",
    "    while not is_sorted(L):\n",
    "        random.shuffle(L)"
   ]
  },
  {
   "cell_type": "code",
   "execution_count": 5,
   "metadata": {},
   "outputs": [],
   "source": [
    "# Bubble Sort \n",
    "\n",
    "def bubble_sort(L):\n",
    "    swap = False\n",
    "    while not swap:\n",
    "        swap = True\n",
    "        for j in range(1, len(L)):\n",
    "            if L[j-1] > L[j]:\n",
    "                swap = False\n",
    "                temp = L[j]\n",
    "                L[j] = L[j-1]\n",
    "                L[j-1] = temp"
   ]
  },
  {
   "cell_type": "code",
   "execution_count": 6,
   "metadata": {},
   "outputs": [],
   "source": [
    "# Selection Sort -> quadratic\n",
    "\"\"\"\n",
    "one element eslected and compare all the others element\n",
    "purposing is to finding min element and generate a new\n",
    "sublist for sorted mins elements\n",
    "\"\"\"\n",
    "def selection_sort(L):\n",
    "    suffixSt = 0\n",
    "    while suffixSt != len(L):\n",
    "        for i in range(suffixSt,len(L)):\n",
    "            if L[i] < L[suffixSt]:\n",
    "                L[suffixSt], L[i] = L[i], L[suffixSt]\n",
    "        suffixSt += 1\n"
   ]
  },
  {
   "cell_type": "code",
   "execution_count": 8,
   "metadata": {},
   "outputs": [],
   "source": [
    "# Merge Sort -> divide and conquer ***\n",
    "\"\"\"\n",
    "split into two list and sort them\n",
    "first small item and others group first smal item \n",
    "should compare\n",
    "\"\"\"\n",
    "def merge(left, right):\n",
    "    result = []\n",
    "    i,j = 0,0\n",
    "    while i < len(left) and j < len(right):\n",
    "        if left[i] < right[j]:\n",
    "            result.append(left[i])\n",
    "            i+=1\n",
    "        else:\n",
    "            result.append(right[j])\n",
    "            j+=1\n",
    "    while (j < len(right)):\n",
    "        result.append(left[i])\n",
    "        i+=1\n",
    "    while (j < len(right)):\n",
    "        result.append(right[j])\n",
    "        j+=1\n",
    "    return result\n",
    "\n",
    "def merge_sort(L):\n",
    "    if len(L) < 2:                        #Base Case\n",
    "        return L[:]\n",
    "    else:\n",
    "        middle = len(L)//2\n",
    "        left = merge_sort(L[:middle])     #divide\n",
    "        right = merge_sort(L[middle:])    #divide\n",
    "        return merge(left,right)          #conquer"
   ]
  },
  {
   "cell_type": "code",
   "execution_count": null,
   "metadata": {},
   "outputs": [],
   "source": []
  }
 ],
 "metadata": {
  "kernelspec": {
   "display_name": "Python 3",
   "language": "python",
   "name": "python3"
  },
  "language_info": {
   "codemirror_mode": {
    "name": "ipython",
    "version": 3
   },
   "file_extension": ".py",
   "mimetype": "text/x-python",
   "name": "python",
   "nbconvert_exporter": "python",
   "pygments_lexer": "ipython3",
   "version": "3.8.3"
  }
 },
 "nbformat": 4,
 "nbformat_minor": 4
}
